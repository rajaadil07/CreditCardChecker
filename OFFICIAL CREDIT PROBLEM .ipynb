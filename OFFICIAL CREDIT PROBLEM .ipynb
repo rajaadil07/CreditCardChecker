{
 "cells": [
  {
   "cell_type": "code",
   "execution_count": 1,
   "metadata": {},
   "outputs": [
    {
     "name": "stdout",
     "output_type": "stream",
     "text": [
      "Credit Card Number: 4266841638734580\n",
      "Visa\n",
      "Valid Credit Card\n"
     ]
    }
   ],
   "source": [
    "#THESE ARE THE VARIABLES\n",
    "\n",
    "total = 0\n",
    "total2 = 0\n",
    "\n",
    "#THIS IS THE INPUT\n",
    "\n",
    "credit_card = input(\"Credit Card Number: \")\n",
    "\n",
    "#THIS IS MASTERCARD \n",
    "\n",
    "if len(credit_card) == 16 and credit_card[0:2] == '51' or credit_card[0:2] == '52' or credit_card[0:2] == '53' or credit_card[0:2] == '54' or credit_card[0:2] == '55':\n",
    "    credit_name = \"MasterCard\"\n",
    "    print(credit_name)\n",
    "    every_other_digit = credit_card[-2::-2]\n",
    "    every_other_digit = str(every_other_digit)\n",
    "    for numbers in every_other_digit:\n",
    "        for stuff in numbers:\n",
    "            x = int(stuff)*2\n",
    "            x = str(x)\n",
    "            for things in x:\n",
    "                total+=int(things)\n",
    "    remaining_digits = credit_card[-1::-2]\n",
    "    for things in remaining_digits:\n",
    "        things = int(things)\n",
    "        total2+=things\n",
    "\n",
    "#THIS IS VISA\n",
    "\n",
    "elif len(credit_card) == 13 or len(credit_card) == 16 and credit_card.startswith('4'):\n",
    "    credit_name = \"Visa\"\n",
    "    print(credit_name)\n",
    "    every_other_digit = credit_card[-2::-2]\n",
    "    every_other_digit = str(every_other_digit)\n",
    "    for numbers in every_other_digit:\n",
    "        for stuff in numbers:\n",
    "            x = int(stuff)*2\n",
    "            x = str(x)\n",
    "            for things in x:\n",
    "                total+=int(things)\n",
    "    remaining_digits = credit_card[-1::-2]\n",
    "    for things in remaining_digits:\n",
    "        things = int(things)\n",
    "        total2+=things\n",
    "        \n",
    "#THIS IS AMERICAN EXPRESS\n",
    "\n",
    "elif len(credit_card) == 15 and credit_card.startswith('34') or credit_card.startswith('37'):\n",
    "    credit_name = \"American Express\"\n",
    "    print(credit_name)\n",
    "    every_other_digit = credit_card[-2::-2]\n",
    "    every_other_digit = str(every_other_digit)\n",
    "    for numbers in every_other_digit:\n",
    "        for stuff in numbers:\n",
    "            x = int(stuff)*2\n",
    "            x = str(x)\n",
    "            for things in x:\n",
    "                total+=int(things)\n",
    "    remaining_digits = credit_card[-1::-2]\n",
    "    for things in remaining_digits:\n",
    "        things = int(things)\n",
    "        total2+=things\n",
    "\n",
    "\n",
    "#THIS IS THE FINAL CHECKER\n",
    "\n",
    "total+=total2\n",
    "total = str(total)\n",
    "if len(total) == 2 and total[-1] == '0':\n",
    "    print(f\"Valid Credit Card\")\n",
    "else:\n",
    "    print(\"Invalid Credit Card\")"
   ]
  },
  {
   "cell_type": "code",
   "execution_count": null,
   "metadata": {},
   "outputs": [],
   "source": []
  }
 ],
 "metadata": {
  "kernelspec": {
   "display_name": "Python 3",
   "language": "python",
   "name": "python3"
  },
  "language_info": {
   "codemirror_mode": {
    "name": "ipython",
    "version": 3
   },
   "file_extension": ".py",
   "mimetype": "text/x-python",
   "name": "python",
   "nbconvert_exporter": "python",
   "pygments_lexer": "ipython3",
   "version": "3.7.7"
  }
 },
 "nbformat": 4,
 "nbformat_minor": 4
}
